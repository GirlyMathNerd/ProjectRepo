{
 "cells": [
  {
   "cell_type": "code",
   "execution_count": 2,
   "metadata": {
    "collapsed": true
   },
   "outputs": [],
   "source": [
    "from setup import *\n",
    "\n",
    "df = pd.read_csv('../_LeagueofLegends.csv')\n"
   ]
  },
  {
   "cell_type": "code",
   "execution_count": 4,
   "metadata": {},
   "outputs": [
    {
     "ename": "ValueError",
     "evalue": "labels ['MatchHistory'] not contained in axis",
     "output_type": "error",
     "traceback": [
      "\u001b[1;31m---------------------------------------------------------------------------\u001b[0m",
      "\u001b[1;31mValueError\u001b[0m                                Traceback (most recent call last)",
      "\u001b[1;32m<ipython-input-4-aa2fdc72d8b8>\u001b[0m in \u001b[0;36m<module>\u001b[1;34m()\u001b[0m\n\u001b[1;32m----> 1\u001b[1;33m \u001b[0mdf\u001b[0m\u001b[1;33m.\u001b[0m\u001b[0mdrop\u001b[0m\u001b[1;33m(\u001b[0m\u001b[1;34m'MatchHistory'\u001b[0m\u001b[1;33m,\u001b[0m \u001b[0maxis\u001b[0m\u001b[1;33m=\u001b[0m\u001b[1;36m1\u001b[0m\u001b[1;33m,\u001b[0m \u001b[0minplace\u001b[0m \u001b[1;33m=\u001b[0m \u001b[1;32mTrue\u001b[0m\u001b[1;33m)\u001b[0m\u001b[1;33m\u001b[0m\u001b[0m\n\u001b[0m\u001b[0;32m      2\u001b[0m \u001b[0mdf\u001b[0m\u001b[1;33m.\u001b[0m\u001b[0mcolumns\u001b[0m\u001b[1;33m\u001b[0m\u001b[0m\n",
      "\u001b[1;32mC:\\Users\\sw_hutyra\\AppData\\Local\\Continuum\\Anaconda3\\lib\\site-packages\\pandas\\core\\generic.py\u001b[0m in \u001b[0;36mdrop\u001b[1;34m(self, labels, axis, level, inplace, errors)\u001b[0m\n\u001b[0;32m   2048\u001b[0m                 \u001b[0mnew_axis\u001b[0m \u001b[1;33m=\u001b[0m \u001b[0maxis\u001b[0m\u001b[1;33m.\u001b[0m\u001b[0mdrop\u001b[0m\u001b[1;33m(\u001b[0m\u001b[0mlabels\u001b[0m\u001b[1;33m,\u001b[0m \u001b[0mlevel\u001b[0m\u001b[1;33m=\u001b[0m\u001b[0mlevel\u001b[0m\u001b[1;33m,\u001b[0m \u001b[0merrors\u001b[0m\u001b[1;33m=\u001b[0m\u001b[0merrors\u001b[0m\u001b[1;33m)\u001b[0m\u001b[1;33m\u001b[0m\u001b[0m\n\u001b[0;32m   2049\u001b[0m             \u001b[1;32melse\u001b[0m\u001b[1;33m:\u001b[0m\u001b[1;33m\u001b[0m\u001b[0m\n\u001b[1;32m-> 2050\u001b[1;33m                 \u001b[0mnew_axis\u001b[0m \u001b[1;33m=\u001b[0m \u001b[0maxis\u001b[0m\u001b[1;33m.\u001b[0m\u001b[0mdrop\u001b[0m\u001b[1;33m(\u001b[0m\u001b[0mlabels\u001b[0m\u001b[1;33m,\u001b[0m \u001b[0merrors\u001b[0m\u001b[1;33m=\u001b[0m\u001b[0merrors\u001b[0m\u001b[1;33m)\u001b[0m\u001b[1;33m\u001b[0m\u001b[0m\n\u001b[0m\u001b[0;32m   2051\u001b[0m             \u001b[0mdropped\u001b[0m \u001b[1;33m=\u001b[0m \u001b[0mself\u001b[0m\u001b[1;33m.\u001b[0m\u001b[0mreindex\u001b[0m\u001b[1;33m(\u001b[0m\u001b[1;33m**\u001b[0m\u001b[1;33m{\u001b[0m\u001b[0maxis_name\u001b[0m\u001b[1;33m:\u001b[0m \u001b[0mnew_axis\u001b[0m\u001b[1;33m}\u001b[0m\u001b[1;33m)\u001b[0m\u001b[1;33m\u001b[0m\u001b[0m\n\u001b[0;32m   2052\u001b[0m             \u001b[1;32mtry\u001b[0m\u001b[1;33m:\u001b[0m\u001b[1;33m\u001b[0m\u001b[0m\n",
      "\u001b[1;32mC:\\Users\\sw_hutyra\\AppData\\Local\\Continuum\\Anaconda3\\lib\\site-packages\\pandas\\core\\indexes\\base.py\u001b[0m in \u001b[0;36mdrop\u001b[1;34m(self, labels, errors)\u001b[0m\n\u001b[0;32m   3573\u001b[0m             \u001b[1;32mif\u001b[0m \u001b[0merrors\u001b[0m \u001b[1;33m!=\u001b[0m \u001b[1;34m'ignore'\u001b[0m\u001b[1;33m:\u001b[0m\u001b[1;33m\u001b[0m\u001b[0m\n\u001b[0;32m   3574\u001b[0m                 raise ValueError('labels %s not contained in axis' %\n\u001b[1;32m-> 3575\u001b[1;33m                                  labels[mask])\n\u001b[0m\u001b[0;32m   3576\u001b[0m             \u001b[0mindexer\u001b[0m \u001b[1;33m=\u001b[0m \u001b[0mindexer\u001b[0m\u001b[1;33m[\u001b[0m\u001b[1;33m~\u001b[0m\u001b[0mmask\u001b[0m\u001b[1;33m]\u001b[0m\u001b[1;33m\u001b[0m\u001b[0m\n\u001b[0;32m   3577\u001b[0m         \u001b[1;32mreturn\u001b[0m \u001b[0mself\u001b[0m\u001b[1;33m.\u001b[0m\u001b[0mdelete\u001b[0m\u001b[1;33m(\u001b[0m\u001b[0mindexer\u001b[0m\u001b[1;33m)\u001b[0m\u001b[1;33m\u001b[0m\u001b[0m\n",
      "\u001b[1;31mValueError\u001b[0m: labels ['MatchHistory'] not contained in axis"
     ]
    }
   ],
   "source": [
    "df.drop('MatchHistory', axis=1, inplace = True)"
   ]
  },
  {
   "cell_type": "code",
   "execution_count": 5,
   "metadata": {},
   "outputs": [
    {
     "data": {
      "text/plain": [
       "Index(['League', 'Season', 'Year', 'blueTeamTag', 'bResult', 'rResult',\n",
       "       'redTeamTag', 'gamelength', 'golddiff', 'goldblue', 'bKills', 'bTowers',\n",
       "       'bInhibs', 'bDragons', 'bBarons', 'bHeralds', 'goldred', 'rKills',\n",
       "       'rTowers', 'rInhibs', 'rDragons', 'rBarons', 'rHeralds', 'blueTop',\n",
       "       'blueTopChamp', 'goldblueTop', 'blueJungle', 'blueJungleChamp',\n",
       "       'goldblueJungle', 'blueMiddle', 'blueMiddleChamp', 'goldblueMiddle',\n",
       "       'blueADC', 'blueADCChamp', 'goldblueADC', 'blueSupport',\n",
       "       'blueSupportChamp', 'goldblueSupport', 'blueBans', 'redTop',\n",
       "       'redTopChamp', 'goldredTop', 'redJungle', 'redJungleChamp',\n",
       "       'goldredJungle', 'redMiddle', 'redMiddleChamp', 'goldredMiddle',\n",
       "       'redADC', 'redADCChamp', 'goldredADC', 'redSupportChamp', 'redSupport',\n",
       "       'goldredSupport', 'redBans'],\n",
       "      dtype='object')"
      ]
     },
     "execution_count": 5,
     "metadata": {},
     "output_type": "execute_result"
    }
   ],
   "source": [
    "df.columns"
   ]
  },
  {
   "cell_type": "code",
   "execution_count": 42,
   "metadata": {},
   "outputs": [
    {
     "name": "stdout",
     "output_type": "stream",
     "text": [
      "[['RekSai' 1339]\n",
      " ['Elise' 1040]\n",
      " ['Gragas' 977]\n",
      " ['LeeSin' 734]\n",
      " ['Graves' 660]\n",
      " ['Nidalee' 517]\n",
      " ['Khazix' 434]\n",
      " ['Rengar' 366]\n",
      " ['Kindred' 271]\n",
      " ['JarvanIV' 238]\n",
      " ['Olaf' 159]\n",
      " ['Sejuani' 150]\n",
      " ['Evelynn' 148]\n",
      " ['Nunu' 102]\n",
      " ['Hecarim' 93]\n",
      " ['Ivern' 74]\n",
      " ['Ekko' 73]\n",
      " ['Vi' 63]\n",
      " ['Zac' 28]\n",
      " ['Rumble' 22]\n",
      " ['Udyr' 14]\n",
      " ['Nocturne' 13]\n",
      " ['Skarner' 10]\n",
      " ['Trundle' 8]\n",
      " ['DrMundo' 8]\n",
      " ['Nautilus' 7]\n",
      " ['Shyvana' 7]\n",
      " ['Warwick' 6]\n",
      " ['Pantheon' 6]\n",
      " ['Shaco' 5]\n",
      " ['Fizz' 4]\n",
      " ['Amumu' 4]\n",
      " ['Poppy' 3]\n",
      " ['Quinn' 3]\n",
      " ['Volibear' 3]\n",
      " ['XinZhao' 2]\n",
      " ['Rammus' 2]\n",
      " ['FiddleSticks' 2]\n",
      " ['Sion' 2]\n",
      " ['Alistar' 1]\n",
      " ['Camille' 1]\n",
      " ['Malzahar' 1]\n",
      " ['MonkeyKing' 1]\n",
      " ['Gnar' 1]\n",
      " ['Mordekaiser' 1]\n",
      " ['Aatrox' 1]]\n"
     ]
    }
   ],
   "source": [
    "jungle_champs = np.append((df['redJungleChamp'].values),(df['blueJungleChamp'].values))\n",
    "\n",
    "unique, counts = np.unique(jungle_champs, return_counts = True)\n",
    "\n",
    "jungle_counts = np.asarray((unique,counts)).T\n",
    "\n",
    "index = np.argsort(jungle_counts[:,1])\n",
    "\n",
    "jungle_freq = np.flip(jungle_counts[index,:],0)\n",
    "print(jungle_freq)"
   ]
  },
  {
   "cell_type": "code",
   "execution_count": 44,
   "metadata": {},
   "outputs": [
    {
     "data": {
      "text/plain": [
       "\"[[10.82, 'C9 Hai', 'TSM Bjergsen'], [16.286, 'C9 LemonNation', 'TSM WildTurtle', 'TSM Santorin', 'TSM Bjergsen', 'TSM Lustboy'], [18.733, 'C9 Hai', 'TSM Bjergsen', 'TSM Santorin', 'TSM WildTurtle', 'TSM Lustboy'], [18.88, 'C9 Meteos', 'TSM Dyrus', 'TSM Santorin', 'TSM Bjergsen', 'TSM WildTurtle', 'TSM Lustboy'], [27.005, 'C9 Balls', 'TSM Bjergsen', 'TSM Dyrus', 'TSM Santorin', 'TSM WildTurtle', 'TSM Lustboy'], [27.029, 'C9 LemonNation', 'TSM Dyrus', 'TSM Bjergsen', 'TSM WildTurtle', 'TSM Lustboy'], [27.109, 'C9 Hai', 'TSM WildTurtle', 'TSM Dyrus', 'TSM Santorin', 'TSM Bjergsen', 'TSM Lustboy'], [28.989, 'C9 LemonNation', 'TSM Bjergsen', 'TSM Dyrus', 'TSM Santorin', 'TSM WildTurtle', 'TSM Lustboy'], [29.073, 'C9 Balls', 'TSM Bjergsen', 'TSM Dyrus', 'TSM Santorin', 'TSM WildTurtle', 'TSM Lustboy'], [30.104, 'C9 Balls', 'TSM WildTurtle', 'TSM Santorin', 'TSM Bjergsen', 'TSM Lustboy'], [32.801, 'C9 Hai', 'TSM Santorin', 'TSM Bjergsen', 'TSM WildTurtle', 'TSM Lustboy'], [32.85, 'C9 Balls', 'TSM Bjergsen', 'TSM Santorin', 'TSM WildTurtle', 'TSM Lustboy'], [33.017, 'C9 LemonNation', 'TSM Bjergsen', 'TSM Dyrus', 'TSM Santorin', 'TSM WildTurtle', 'TSM Lustboy'], [38.889, 'C9 Meteos', 'TSM Bjergsen', 'TSM Dyrus', 'TSM Santorin', 'TSM WildTurtle', 'TSM Lustboy'], [38.906, 'C9 LemonNation', 'TSM WildTurtle', 'TSM Dyrus', 'TSM Santorin', 'TSM Bjergsen', 'TSM Lustboy'], [38.964, 'C9 Sneaky', 'TSM WildTurtle', 'TSM Dyrus', 'TSM Santorin', 'TSM Bjergsen', 'TSM Lustboy']]\""
      ]
     },
     "execution_count": 44,
     "metadata": {},
     "output_type": "execute_result"
    }
   ],
   "source": [
    "df['bKills'][0]"
   ]
  }
 ],
 "metadata": {
  "kernelspec": {
   "display_name": "Python 3",
   "language": "python",
   "name": "python3"
  },
  "language_info": {
   "codemirror_mode": {
    "name": "ipython",
    "version": 3
   },
   "file_extension": ".py",
   "mimetype": "text/x-python",
   "name": "python",
   "nbconvert_exporter": "python",
   "pygments_lexer": "ipython3",
   "version": "3.6.1"
  }
 },
 "nbformat": 4,
 "nbformat_minor": 2
}
