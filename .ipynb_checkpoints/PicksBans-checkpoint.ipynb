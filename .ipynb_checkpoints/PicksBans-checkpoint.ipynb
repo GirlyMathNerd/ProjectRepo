{
 "cells": [
  {
   "cell_type": "code",
   "execution_count": 158,
   "metadata": {
    "collapsed": true
   },
   "outputs": [],
   "source": [
    "from setup import *\n",
    "from sklearn.feature_extraction.text import TfidfVectorizer\n",
    "from sklearn.pipeline import make_pipeline\n",
    "from sklearn.metrics import confusion_matrix\n",
    "from sklearn.mixture import GaussianMixture\n",
    "from sklearn.ensemble import RandomForestClassifier"
   ]
  },
  {
   "cell_type": "code",
   "execution_count": 118,
   "metadata": {},
   "outputs": [
    {
     "data": {
      "text/plain": [
       "132"
      ]
     },
     "execution_count": 118,
     "metadata": {},
     "output_type": "execute_result"
    }
   ],
   "source": [
    "df = pd.read_csv('_LeagueofLegends.csv')\n",
    "df_temp = df[['blueTopChamp','blueJungleChamp','blueMiddleChamp','blueADCChamp',\n",
    "            'blueSupportChamp','redTopChamp','redJungleChamp','redMiddleChamp','redADCChamp',\n",
    "            'redSupportChamp']]\n",
    "list_champions = df_temp.stack().unique()\n",
    "len(list_champions)"
   ]
  },
  {
   "cell_type": "code",
   "execution_count": 71,
   "metadata": {},
   "outputs": [
    {
     "data": {
      "text/plain": [
       "Index(['MatchHistory', 'League', 'Season', 'Year', 'blueTeamTag', 'bResult',\n",
       "       'rResult', 'redTeamTag', 'gamelength', 'golddiff', 'goldblue', 'bKills',\n",
       "       'bTowers', 'bInhibs', 'bDragons', 'bBarons', 'bHeralds', 'goldred',\n",
       "       'rKills', 'rTowers', 'rInhibs', 'rDragons', 'rBarons', 'rHeralds',\n",
       "       'blueTop', 'blueTopChamp', 'goldblueTop', 'blueJungle',\n",
       "       'blueJungleChamp', 'goldblueJungle', 'blueMiddle', 'blueMiddleChamp',\n",
       "       'goldblueMiddle', 'blueADC', 'blueADCChamp', 'goldblueADC',\n",
       "       'blueSupport', 'blueSupportChamp', 'goldblueSupport', 'blueBans',\n",
       "       'redTop', 'redTopChamp', 'goldredTop', 'redJungle', 'redJungleChamp',\n",
       "       'goldredJungle', 'redMiddle', 'redMiddleChamp', 'goldredMiddle',\n",
       "       'redADC', 'redADCChamp', 'goldredADC', 'redSupportChamp', 'redSupport',\n",
       "       'goldredSupport', 'redBans', 'totalBans'],\n",
       "      dtype='object')"
      ]
     },
     "execution_count": 71,
     "metadata": {},
     "output_type": "execute_result"
    }
   ],
   "source": [
    "df['blueBans'].replace('[^A-Za-z\\s]+','',regex=True,inplace=True)\n",
    "df['redBans'].replace('[^A-Za-z\\s]+','',regex=True,inplace=True)\n",
    "li_temp_red = [x for x in df['redBans'].str.split()]\n",
    "li_temp_blue = [x for x in df['blueBans'].str.split()]\n",
    "li_total_bans = []\n",
    "for x in range(len(li_temp_red)):\n",
    "    li_total_bans.append(list(set().union(li_temp_red[x],li_temp_blue[x])))\n",
    "df['totalBans'] = li_total_bans"
   ]
  },
  {
   "cell_type": "code",
   "execution_count": 34,
   "metadata": {},
   "outputs": [
    {
     "name": "stderr",
     "output_type": "stream",
     "text": [
      "C:\\Users\\eccea\\Anaconda3\\lib\\site-packages\\ipykernel_launcher.py:4: SettingWithCopyWarning: \n",
      "A value is trying to be set on a copy of a slice from a DataFrame.\n",
      "Try using .loc[row_indexer,col_indexer] = value instead\n",
      "\n",
      "See the caveats in the documentation: http://pandas.pydata.org/pandas-docs/stable/indexing.html#indexing-view-versus-copy\n",
      "  after removing the cwd from sys.path.\n",
      "C:\\Users\\eccea\\Anaconda3\\lib\\site-packages\\ipykernel_launcher.py:5: SettingWithCopyWarning: \n",
      "A value is trying to be set on a copy of a slice from a DataFrame.\n",
      "Try using .loc[row_indexer,col_indexer] = value instead\n",
      "\n",
      "See the caveats in the documentation: http://pandas.pydata.org/pandas-docs/stable/indexing.html#indexing-view-versus-copy\n",
      "  \"\"\"\n",
      "C:\\Users\\eccea\\Anaconda3\\lib\\site-packages\\ipykernel_launcher.py:6: SettingWithCopyWarning: \n",
      "A value is trying to be set on a copy of a slice from a DataFrame.\n",
      "Try using .loc[row_indexer,col_indexer] = value instead\n",
      "\n",
      "See the caveats in the documentation: http://pandas.pydata.org/pandas-docs/stable/indexing.html#indexing-view-versus-copy\n",
      "  \n"
     ]
    }
   ],
   "source": [
    "df_2015 = df[df['Year']==2015]\n",
    "df_2016 = df[df['Year']==2016]\n",
    "df_2017 = df[df['Year']==2017]\n",
    "df_2015['isTrain'] = np.random.uniform(0, 1, len(df_2015)) <= .75\n",
    "df_2016['isTrain'] = np.random.uniform(0, 1, len(df_2016)) <= .75\n",
    "df_2017['isTrain'] = np.random.uniform(0, 1, len(df_2017)) <= .75"
   ]
  },
  {
   "cell_type": "code",
   "execution_count": 156,
   "metadata": {
    "collapsed": true
   },
   "outputs": [],
   "source": [
    "blueTeam_2015 = df_2015[['blueTeamTag','blueTop','blueTopChamp','blueJungle','blueJungleChamp',\n",
    "                         'blueMiddle','blueMiddleChamp','blueADC','blueADCChamp','blueSupport',\n",
    "                        'blueSupportChamp','totalBans','isTrain']]\n",
    "blueTeam_2015.reset_index(drop=True)\n",
    "redTeam_2015 = df_2015[['redTeamTag','redTop','redTopChamp','redJungle','redJungleChamp',\n",
    "                         'redMiddle','redMiddleChamp','redADC','redADCChamp','redSupport',\n",
    "                        'redSupportChamp','totalBans','isTrain']]\n",
    "redTeam_2015.reset_index(drop=True)\n",
    "blueTeam_2016 = df_2016[['blueTeamTag','blueTop','blueTopChamp','blueJungle','blueJungleChamp',\n",
    "                         'blueMiddle','blueMiddleChamp','blueADC','blueADCChamp','blueSupport',\n",
    "                        'blueSupportChamp','totalBans','isTrain']]\n",
    "blueTeam_2016.reset_index(drop=True)\n",
    "redTeam_2016 = df_2016[['redTeamTag','redTop','redTopChamp','redJungle','redJungleChamp',\n",
    "                         'redMiddle','redMiddleChamp','redADC','redADCChamp','redSupport',\n",
    "                        'redSupportChamp','totalBans','isTrain']]\n",
    "redTeam_2016.reset_index(drop=True)\n",
    "blueTeam_2017 = df_2017[['blueTeamTag','blueTop','blueTopChamp','blueJungle','blueJungleChamp',\n",
    "                         'blueMiddle','blueMiddleChamp','blueADC','blueADCChamp','blueSupport',\n",
    "                        'blueSupportChamp','totalBans','isTrain']]\n",
    "blueTeam_2017.reset_index(drop=True)\n",
    "redTeam_2017 = df_2017[['redTeamTag','redTop','redTopChamp','redJungle','redJungleChamp',\n",
    "                         'redMiddle','redMiddleChamp','redADC','redADCChamp','redSupport',\n",
    "                        'redSupportChamp','totalBans','isTrain']]\n",
    "redTeam_2017.reset_index(drop=True);"
   ]
  },
  {
   "cell_type": "code",
   "execution_count": 157,
   "metadata": {
    "collapsed": true
   },
   "outputs": [],
   "source": [
    "blueTeam2015_train, blueTeam2015_test = blueTeam_2015[blueTeam_2015['isTrain']==True], blueTeam_2015[blueTeam_2015['isTrain']==False]\n",
    "blueTeam2016_train, blueTeam2016_test = blueTeam_2016[blueTeam_2016['isTrain']==True], blueTeam_2016[blueTeam_2016['isTrain']==False]\n",
    "blueTeam2017_train, blueTeam2017_test = blueTeam_2017[blueTeam_2017['isTrain']==True], blueTeam_2017[blueTeam_2017['isTrain']==False]\n",
    "redTeam2015_train, redTeam2015_test = redTeam_2015[redTeam_2015['isTrain']==True], redTeam_2015[redTeam_2015['isTrain']==False]\n",
    "redTeam2016_train, redTeam2016_test = redTeam_2016[redTeam_2016['isTrain']==True], redTeam_2016[redTeam_2016['isTrain']==False]\n",
    "redTeam2017_train, redTeam2017_test = redTeam_2017[redTeam_2017['isTrain']==True], redTeam_2017[redTeam_2017['isTrain']==False]"
   ]
  }
 ],
 "metadata": {
  "kernelspec": {
   "display_name": "Python 3",
   "language": "python",
   "name": "python3"
  },
  "language_info": {
   "codemirror_mode": {
    "name": "ipython",
    "version": 3
   },
   "file_extension": ".py",
   "mimetype": "text/x-python",
   "name": "python",
   "nbconvert_exporter": "python",
   "pygments_lexer": "ipython3",
   "version": "3.6.1"
  }
 },
 "nbformat": 4,
 "nbformat_minor": 2
}
