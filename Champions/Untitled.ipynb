{
 "cells": [
  {
   "cell_type": "code",
   "execution_count": 10,
   "metadata": {
    "collapsed": true
   },
   "outputs": [],
   "source": [
    "import json\n",
    "import pandas as pd"
   ]
  },
  {
   "cell_type": "code",
   "execution_count": 7,
   "metadata": {
    "collapsed": false
   },
   "outputs": [],
   "source": [
    "aatrox_dic = json.load(open('Aatrox.json'))\n",
    "ahri_dic = json.load(open('Ahri.json'))\n",
    "akali_dic = json.load(open('Akali.json'))\n",
    "alistar_dic = json.load(open('Alistar.json'))\n",
    "amumu_dic = json.load(open('Amumu.json'))\n",
    "anivia_dic = json.load(open('Anivia.json'))\n",
    "annie_dic = json.load(open('Annie.json'))\n",
    "ashe_dic = json.load(open('Ashe.json'))\n",
    "aurelionsol_dic = json.load(open('AurelionSol.json'))\n",
    "azir_dic = json.load(open('Azir.json'))\n",
    "bard_dic = json.load(open('Bard.json'))\n",
    "blitzcrank_dic = json.load(open('Blitzcrank.json'))\n",
    "brand_dic = json.load(open('Brand.json'))\n",
    "braum_dic = json.load(open('Braum.json'))\n",
    "caitlyn_dic = json.load(open('Caitlyn.json'))\n",
    "camille_dic = json.load(open('Camille.json'))\n",
    "cassiopeia_dic = json.load(open('Cassiopeia.json'))\n",
    "chogath_dic = json.load(open('Chogath.json'))\n",
    "corki_dic = json.load(open('Corki.json'))\n",
    "darius_dic = json.load(open('Darius.json'))\n",
    "diana_dic = json.load(open('Diana.json'))\n",
    "draven_dic = json.load(open('Draven.json'))\n",
    "drmundo_dic = json.load(open('DrMundo.json'))\n",
    "ekko_dic = json.load(open('Ekko.json'))\n",
    "elise_dic = json.load(open('Elise.json'))\n",
    "evelynn_dic = json.load(open('Evelynn.json'))\n",
    "ezreal_dic = json.load(open('Ezreal.json'))\n",
    "fiddlesticks_dic = json.load(open('FiddleSticks.json'))\n",
    "fiora_dic = json.load(open('Fiora.json'))\n",
    "fizz_dic = json.load(open('Fizz.json'))\n",
    "galio_dic = json.load(open('Galio.json'))\n",
    "gangplank_dic = json.load(open('Gangplank.json'))\n",
    "garen_dic = json.load(open('Garen.json'))\n",
    "gnar_dic = json.load(open('Gnar.json'))\n",
    "gragas_dic = json.load(open('Gragas.json'))\n",
    "graves_dic = json.load(open('Graves.json'))\n",
    "hecarim_dic = json.load(open('Hecarim.json'))\n",
    "heimerdinger_dic = json.load(open('Heimerdinger.json'))\n",
    "illaoi_dic = json.load(open('Illaoi.json'))\n",
    "irelia_dic = json.load(open('Irelia.json'))\n",
    "ivern_dic = json.load(open('Ivern.json'))\n",
    "janna_dic = json.load(open('Janna.json'))\n",
    "jarvaniv_dic = json.load(open('JarvanIV.json'))\n",
    "jax_dic = json.load(open('Jax.json'))\n",
    "jayce_dic = json.load(open('Jayce.json'))\n",
    "jhin_dic = json.load(open('Jhin.json'))\n",
    "jinx_dic = json.load(open('Jinx.json'))\n",
    "kalista_dic = json.load(open('Kalista.json'))\n",
    "karma_dic = json.load(open('Karma.json'))\n",
    "karthus_dic = json.load(open('Karthus.json'))\n",
    "kassadin_dic = json.load(open('Kassadin.json'))\n",
    "katarina_dic = json.load(open('Katarina.json'))\n",
    "kayle_dic = json.load(open('Kayle.json'))\n",
    "kennen_dic = json.load(open('Kennen.json'))\n",
    "khazix_dic = json.load(open('Khazix.json'))\n",
    "kindred_dic = json.load(open('Kindred.json'))\n",
    "kled_dic = json.load(open('Kled.json'))\n",
    "kogmaw_dic = json.load(open('KogMaw.json'))"
   ]
  },
  {
   "cell_type": "code",
   "execution_count": null,
   "metadata": {
    "collapsed": false
   },
   "outputs": [],
   "source": []
  },
  {
   "cell_type": "code",
   "execution_count": 8,
   "metadata": {
    "collapsed": false
   },
   "outputs": [],
   "source": [
    "all_champs_li = [aatrox_dic, ahri_dic, akali_dic, alistar_dic, amumu_dic, \n",
    "                 anivia_dic, annie_dic, ashe_dic, aurelionsol_dic, azir_dic, \n",
    "                 bard_dic, blitzcrank_dic, brand_dic, braum_dic, caitlyn_dic,\n",
    "                 camille_dic, cassiopeia_dic, chogath_dic, corki_dic, darius_dic,\n",
    "                 diana_dic, draven_dic, drmundo_dic, ekko_dic, elise_dic,\n",
    "                 evelynn_dic, ezreal_dic, fiddlesticks_dic, fiora_dic, fizz_dic,\n",
    "                 galio_dic, gangplank_dic, garen_dic, gnar_dic, gragas_dic,\n",
    "                 graves_dic, hecarim_dic, heimerdinger_dic, illaoi_dic, irelia_dic,\n",
    "                 ivern_dic, janna_dic, jarvaniv_dic, jax_dic, jayce_dic,\n",
    "                 jhin_dic, jinx_dic, kalista_dic, karma_dic, karthus_dic,\n",
    "                 kassadin_dic, katarina_dic, kayle_dic, kennen_dic, khazix_dic,\n",
    "                 kindred_dic, kled_dic, kogmaw_dic]"
   ]
  },
  {
   "cell_type": "code",
   "execution_count": 13,
   "metadata": {
    "collapsed": false
   },
   "outputs": [
    {
     "name": "stdout",
     "output_type": "stream",
     "text": [
      "<class 'dict'>\n",
      "                                                 data             format  \\\n",
      "0   {'Aatrox': {'id': 'Aatrox', 'key': '266', 'nam...  standAloneComplex   \n",
      "1   {'Ahri': {'id': 'Ahri', 'key': '103', 'name': ...  standAloneComplex   \n",
      "2   {'Akali': {'id': 'Akali', 'key': '84', 'name':...  standAloneComplex   \n",
      "3   {'Alistar': {'id': 'Alistar', 'key': '12', 'na...  standAloneComplex   \n",
      "4   {'Amumu': {'id': 'Amumu', 'key': '32', 'name':...  standAloneComplex   \n",
      "5   {'Anivia': {'id': 'Anivia', 'key': '34', 'name...  standAloneComplex   \n",
      "6   {'Annie': {'id': 'Annie', 'key': '1', 'name': ...  standAloneComplex   \n",
      "7   {'Ashe': {'id': 'Ashe', 'key': '22', 'name': '...  standAloneComplex   \n",
      "8   {'AurelionSol': {'id': 'AurelionSol', 'key': '...  standAloneComplex   \n",
      "9   {'Azir': {'id': 'Azir', 'key': '268', 'name': ...  standAloneComplex   \n",
      "10  {'Bard': {'id': 'Bard', 'key': '432', 'name': ...  standAloneComplex   \n",
      "11  {'Blitzcrank': {'id': 'Blitzcrank', 'key': '53...  standAloneComplex   \n",
      "12  {'Brand': {'id': 'Brand', 'key': '63', 'name':...  standAloneComplex   \n",
      "13  {'Braum': {'id': 'Braum', 'key': '201', 'name'...  standAloneComplex   \n",
      "14  {'Caitlyn': {'id': 'Caitlyn', 'key': '51', 'na...  standAloneComplex   \n",
      "15  {'Camille': {'id': 'Camille', 'key': '164', 'n...  standAloneComplex   \n",
      "16  {'Cassiopeia': {'id': 'Cassiopeia', 'key': '69...  standAloneComplex   \n",
      "17  {'Chogath': {'id': 'Chogath', 'key': '31', 'na...  standAloneComplex   \n",
      "18  {'Corki': {'id': 'Corki', 'key': '42', 'name':...  standAloneComplex   \n",
      "19  {'Darius': {'id': 'Darius', 'key': '122', 'nam...  standAloneComplex   \n",
      "20  {'Diana': {'id': 'Diana', 'key': '131', 'name'...  standAloneComplex   \n",
      "21  {'Draven': {'id': 'Draven', 'key': '119', 'nam...  standAloneComplex   \n",
      "22  {'DrMundo': {'id': 'DrMundo', 'key': '36', 'na...  standAloneComplex   \n",
      "23  {'Ekko': {'id': 'Ekko', 'key': '245', 'name': ...  standAloneComplex   \n",
      "24  {'Elise': {'id': 'Elise', 'key': '60', 'name':...  standAloneComplex   \n",
      "25  {'Evelynn': {'id': 'Evelynn', 'key': '28', 'na...  standAloneComplex   \n",
      "26  {'Ezreal': {'id': 'Ezreal', 'key': '81', 'name...  standAloneComplex   \n",
      "27  {'FiddleSticks': {'id': 'FiddleSticks', 'key':...  standAloneComplex   \n",
      "28  {'Fiora': {'id': 'Fiora', 'key': '114', 'name'...  standAloneComplex   \n",
      "29  {'Fizz': {'id': 'Fizz', 'key': '105', 'name': ...  standAloneComplex   \n",
      "30  {'Galio': {'id': 'Galio', 'key': '3', 'name': ...  standAloneComplex   \n",
      "31  {'Gangplank': {'id': 'Gangplank', 'key': '41',...  standAloneComplex   \n",
      "32  {'Garen': {'id': 'Garen', 'key': '86', 'name':...  standAloneComplex   \n",
      "33  {'Gnar': {'id': 'Gnar', 'key': '150', 'name': ...  standAloneComplex   \n",
      "34  {'Gragas': {'id': 'Gragas', 'key': '79', 'name...  standAloneComplex   \n",
      "35  {'Graves': {'id': 'Graves', 'key': '104', 'nam...  standAloneComplex   \n",
      "\n",
      "        type version  \n",
      "0   champion  6.24.1  \n",
      "1   champion  6.24.1  \n",
      "2   champion  6.24.1  \n",
      "3   champion  6.24.1  \n",
      "4   champion  6.24.1  \n",
      "5   champion  6.24.1  \n",
      "6   champion  6.24.1  \n",
      "7   champion  6.24.1  \n",
      "8   champion  6.24.1  \n",
      "9   champion  6.24.1  \n",
      "10  champion  6.24.1  \n",
      "11  champion  6.24.1  \n",
      "12  champion  6.24.1  \n",
      "13  champion  6.24.1  \n",
      "14  champion  6.24.1  \n",
      "15  champion  6.24.1  \n",
      "16  champion  6.24.1  \n",
      "17  champion  6.24.1  \n",
      "18  champion  6.24.1  \n",
      "19  champion  6.24.1  \n",
      "20  champion  6.24.1  \n",
      "21  champion  6.24.1  \n",
      "22  champion  6.24.1  \n",
      "23  champion  6.24.1  \n",
      "24  champion  6.24.1  \n",
      "25  champion  6.24.1  \n",
      "26  champion  6.24.1  \n",
      "27  champion  6.24.1  \n",
      "28  champion  6.24.1  \n",
      "29  champion  6.24.1  \n",
      "30  champion  6.24.1  \n",
      "31  champion  6.24.1  \n",
      "32  champion  6.24.1  \n",
      "33  champion  6.24.1  \n",
      "34  champion  6.24.1  \n",
      "35  champion  6.24.1  \n"
     ]
    }
   ],
   "source": [
    "print(type(camille_dic))\n",
    "#print(all_champs_li)\n",
    "all_champs_df = pd.DataFrame(all_champs_li)\n",
    "print(all_champs_df)"
   ]
  }
 ],
 "metadata": {
  "kernelspec": {
   "display_name": "Python 3",
   "language": "python",
   "name": "python3"
  },
  "language_info": {
   "codemirror_mode": {
    "name": "ipython",
    "version": 3
   },
   "file_extension": ".py",
   "mimetype": "text/x-python",
   "name": "python",
   "nbconvert_exporter": "python",
   "pygments_lexer": "ipython3",
   "version": "3.6.0"
  }
 },
 "nbformat": 4,
 "nbformat_minor": 2
}
